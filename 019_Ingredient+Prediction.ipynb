{
 "cells": [
  {
   "cell_type": "code",
   "execution_count": 1,
   "metadata": {},
   "outputs": [],
   "source": [
    "import numpy as np\n",
    "import pandas as pd\n",
    "import matplotlib.pyplot as plt\n",
    "import matplotlib as mpl\n",
    "from sklearn import manifold\n",
    "import operator\n",
    "import random\n",
    "import matplotlib.pyplot as plt"
   ]
  },
  {
   "cell_type": "code",
   "execution_count": null,
   "metadata": {},
   "outputs": [],
   "source": [
    "\"\"\"\n",
    "embedding = MDS(n_components=2, dissimilarity='precomputed', random_state=12324)\n",
    "cosine_embedding = embedding.fit_transform(dissimilarity_cosine)\n",
    "cosine_embedding.shape\n",
    "\"\"\""
   ]
  },
  {
   "cell_type": "code",
   "execution_count": 415,
   "metadata": {},
   "outputs": [],
   "source": [
    "cuisines = pd.read_csv(\"Cuisines.csv\",header=None)\n",
    "cuisines.columns = ['cuisine_key','cuisine']\n",
    "recipes = pd.read_csv(\"recipes.csv\")"
   ]
  },
  {
   "cell_type": "code",
   "execution_count": 417,
   "metadata": {},
   "outputs": [
    {
     "data": {
      "text/plain": [
       "Index(['acorn_squash', 'adobo', 'african_birdseye_chile_pepper', 'ale',\n",
       "       'aleppo_pepper', 'alfalfa_sprouts', 'alfredo_sauce', 'allspice',\n",
       "       'almond', 'almond_butter',\n",
       "       ...\n",
       "       'yeast', 'yellow_curry_paste', 'yellow_food_coloring',\n",
       "       'yellow_split_pea', 'yellow_squash', 'yogurt', 'zaatar', 'zest',\n",
       "       'zucchini', 'cuisine'],\n",
       "      dtype='object', length=710)"
      ]
     },
     "execution_count": 417,
     "metadata": {},
     "output_type": "execute_result"
    }
   ],
   "source": [
    "recipes_data = recipes\n",
    "recipe_columns = recipes_data.columns\n",
    "recipe_columns = [ingredient.replace(' ','_') for ingredient in recipe_columns]\n",
    "recipe_columns = [ingredient.replace('\\'','') for ingredient in recipe_columns]\n",
    "recipes_data.columns = recipe_columns\n",
    "recipes_data.columns"
   ]
  },
  {
   "cell_type": "code",
   "execution_count": 419,
   "metadata": {},
   "outputs": [
    {
     "name": "stderr",
     "output_type": "stream",
     "text": [
      "C:\\Users\\akash\\miniconda3\\envs\\mlp\\lib\\site-packages\\sklearn\\metrics\\pairwise.py:1765: DataConversionWarning: Data was converted to boolean for metric jaccard\n",
      "  warnings.warn(msg, DataConversionWarning)\n"
     ]
    }
   ],
   "source": [
    "#cosine similiarity Transformed filtered to get similiarty matrix between ingredients\n",
    "from sklearn.metrics import pairwise_distances\n",
    "from sklearn.manifold import MDS\n",
    "from sklearn.decomposition import PCA\n",
    "from sklearn.model_selection import train_test_split\n",
    "\n",
    "recipes_data_drop = recipes_data.drop([\"cuisine\",'water','salt','baking_soda','baking_powder'], axis=1)\n",
    "filtered = recipes_data_drop\n",
    "\n",
    "train, test = train_test_split(filtered, test_size=0.4, random_state=1)\n",
    "val, test = train_test_split(test, test_size=0.75, random_state=1)\n",
    "filtered_train = train.to_numpy()\n",
    "#feature reduction 95%\n",
    "\"\"\"\n",
    "if PCA_on == True:\n",
    "    cuisine_pca = PCA(n_components=0.95,random_state=12345)\n",
    "    recipes_data_drop = pd.DataFrame(cuisine_pca.fit_transform(filtered))\n",
    "    \"\"\"\n",
    "dissimilarity_cosine = pairwise_distances(filtered_train.T, metric=\"jaccard\")"
   ]
  },
  {
   "cell_type": "code",
   "execution_count": 8,
   "metadata": {},
   "outputs": [],
   "source": [
    "pd.set_option('display.max_columns', 1000)  # or 1000"
   ]
  },
  {
   "cell_type": "markdown",
   "metadata": {},
   "source": [
    "# model built here"
   ]
  },
  {
   "cell_type": "code",
   "execution_count": 420,
   "metadata": {},
   "outputs": [],
   "source": [
    "similarity_cosine = 1-dissimilarity_cosine # use 1 for similar, and 0 for not similar"
   ]
  },
  {
   "cell_type": "code",
   "execution_count": 422,
   "metadata": {},
   "outputs": [],
   "source": [
    "### select K most similar ingredients for ingredient I (0 to end).\n",
    "\n",
    "def top_K(K,I):\n",
    "    \n",
    "    similarity_cosine[I]\n",
    "    ingredients_dict = {}\n",
    "    \n",
    "    for i,j in enumerate(similarity_cosine[I]):\n",
    "        if not j==0:\n",
    "            ingredients_dict[recipes_data_drop.columns[i]] = (j,i)\n",
    "    ingredients_dict = dict(sorted(ingredients_dict.items(), key=operator.itemgetter(1), reverse = True))\n",
    "    if K > len(ingredients_dict.items()):\n",
    "        K=len(ingredients_dict.items())\n",
    "    ingredients_dict = dict(list(ingredients_dict.items())[0:K])\n",
    "    \n",
    "    return ingredients_dict\n",
    "\n",
    "def recommend_n_ingredients(R,K,n,dataset): # for a recipe R, returns a wei\n",
    "    \n",
    "    \n",
    "    n_ingredients = similarity_cosine.shape[0]  \n",
    "    r = np.array(dataset.iloc[R])\n",
    "    a = np.zeros(n_ingredients)\n",
    "    P = {}\n",
    "    \n",
    "    for I in range(0, n_ingredients):\n",
    "        \n",
    "        d = top_K(K,I) # get K most similar ingredients to ingredient I\n",
    "        \n",
    "        for i in d.items():\n",
    "            \n",
    "            a[i[1][1]]=i[1][0]\n",
    "        \n",
    "        P[dataset.columns[I]]=((r @ a)/sum(a),I)\n",
    "    \n",
    "    P = dict(sorted(P.items(), key=operator.itemgetter(1), reverse = True))\n",
    "    P = dict(list(P.items())[0:n])\n",
    "    \n",
    "    rank=len(P.items())+1\n",
    "    for i in P.items():\n",
    "        rank-=1\n",
    "        P[i[0]] = i[1]+(rank,)\n",
    "    \n",
    "    \n",
    "    return P"
   ]
  },
  {
   "cell_type": "code",
   "execution_count": 425,
   "metadata": {},
   "outputs": [
    {
     "data": {
      "text/plain": [
       "{'cayenne_pepper': (0.010473980569777547, 117, 50),\n",
       " 'olive_oil': (0.010378151520063366, 419, 49),\n",
       " 'garlic': (0.009987926890037576, 259, 48),\n",
       " 'celery': (0.009911526255880076, 119, 47),\n",
       " 'cauliflower': (0.009487345586724073, 116, 46),\n",
       " 'celeriac': (0.008894326285382274, 118, 45),\n",
       " 'celery_salt': (0.008883568399218354, 120, 44),\n",
       " 'celery_seed': (0.008803004119765307, 121, 43),\n",
       " 'celery_soup': (0.008627548937794757, 122, 42),\n",
       " 'chanterelle_mushroom': (0.00854933847574783, 123, 41),\n",
       " 'chard': (0.00847696681463454, 124, 40),\n",
       " 'chayote': (0.008456448326459472, 125, 39),\n",
       " 'parmesan_cheese': (0.008240076583071666, 438, 38),\n",
       " 'potato_starch': (0.00780238371133229, 489, 37),\n",
       " 'potato': (0.00780238371133229, 488, 36),\n",
       " 'heavy_cream': (0.007431859198329931, 309, 35),\n",
       " 'poultry_seasoning': (0.007331899618187986, 490, 34),\n",
       " 'honey': (0.0069525518447757124, 316, 33),\n",
       " 'powdered_sugar': (0.006782870821282363, 491, 32),\n",
       " 'herb': (0.006560670065668431, 310, 31),\n",
       " 'herbes_de_provence': (0.006434059988391478, 311, 30),\n",
       " 'hoisin_sauce': (0.006372985472879044, 313, 29),\n",
       " 'hoagie_rolls': (0.006361330317435408, 312, 28),\n",
       " 'hokkien_noodles': (0.006246033671462822, 314, 27),\n",
       " 'onion': (0.006241241349701843, 420, 26),\n",
       " 'hominy': (0.006203786082342927, 315, 25),\n",
       " 'horseradish': (0.006191469549590619, 318, 24),\n",
       " 'honey_mustard': (0.006191469549590619, 317, 23),\n",
       " 'hot_bean_paste': (0.006178383412255688, 320, 22),\n",
       " 'horseradish_sauce': (0.006156496259217038, 319, 21),\n",
       " 'butter': (0.005390302982977724, 97, 20),\n",
       " 'chicken': (0.004582062515824941, 134, 19),\n",
       " 'chicken_base': (0.00457709200936376, 135, 18),\n",
       " 'tomato': (0.004387931089625607, 637, 17),\n",
       " 'buttermilk': (0.004256496432629392, 98, 16),\n",
       " 'almond': (0.004248658431830141, 8, 15),\n",
       " 'parsley': (0.004086773228991559, 439, 14),\n",
       " 'pepper': (0.003951500845475875, 456, 13),\n",
       " 'beef': (0.003924907375992305, 58, 12),\n",
       " 'broth': (0.0038950411981947164, 88, 11),\n",
       " 'basil': (0.003628592732590629, 50, 10),\n",
       " 'wine': (0.003442769236135767, 690, 9),\n",
       " 'allspice': (0.003376825197408354, 7, 8),\n",
       " 'carrot': (0.0033462888459358654, 112, 7),\n",
       " 'pasta': (0.003345136338674981, 442, 6),\n",
       " 'garlic_butter': (0.003247051265401837, 260, 5),\n",
       " 'garlic_pepper_seasoning': (0.0032358073536957743, 261, 4),\n",
       " 'egg': (0.0031342086586090786, 217, 3),\n",
       " 'cumin': (0.0031246892742185063, 199, 2),\n",
       " 'oxtails': (0.0030126797400666172, 427, 1)}"
      ]
     },
     "execution_count": 425,
     "metadata": {},
     "output_type": "execute_result"
    }
   ],
   "source": [
    "recipes_index = 10\n",
    "K_most_similar_ingredients = 100\n",
    "N_recommendations = 50\n",
    "d = recommend_n_ingredients(recipes_index,K_most_similar_ingredients, N_recommendations,train)\n",
    "d"
   ]
  },
  {
   "cell_type": "code",
   "execution_count": 424,
   "metadata": {},
   "outputs": [
    {
     "data": {
      "text/plain": [
       "cauliflower        1\n",
       "garlic             1\n",
       "heavy_cream        1\n",
       "olive_oil          1\n",
       "parmesan_cheese    1\n",
       "potato             1\n",
       "Name: 2374, dtype: int64"
      ]
     },
     "execution_count": 424,
     "metadata": {},
     "output_type": "execute_result"
    }
   ],
   "source": [
    "#the recipe in training set\n",
    "train.iloc[recipes_index][train.iloc[recipes_index]==1]"
   ]
  },
  {
   "cell_type": "code",
   "execution_count": 426,
   "metadata": {},
   "outputs": [
    {
     "name": "stdout",
     "output_type": "stream",
     "text": [
      "rank_raw, rank_p,top_10,top_5\n",
      "(0.4004716981132073, 0.586716339854828, 0.6422955974842768, 0.3891509433962264)\n"
     ]
    }
   ],
   "source": [
    "# is this a reasonable test or is this a sanity check?\n",
    "# drop n ingredients from each recipe, measure the ability to reproduce the same recipe.\n",
    "# N = number of samples\n",
    "\n",
    "def run_test(N,KNN,N_rec,drop_n,dataset):\n",
    "    #N is number of samples to tests (reduces computation time)\n",
    "    K = KNN #K Most similar ingredients for recommender function\n",
    "    N_recommendations = N_rec\n",
    "    \n",
    "    dataset_copy = dataset.copy(deep=True)\n",
    "    #do a shorter validation\n",
    "\n",
    "    ingredient_history = {}\n",
    "    rank_raw = []\n",
    "    rank_p_n = []\n",
    "    rank_p_d = []\n",
    "    in_top_10 = []\n",
    "    in_top_5 = []\n",
    "    \n",
    "    \n",
    "    for recipes_index in range(0,dataset_copy.shape[0]):\n",
    "        \n",
    "        # drop a drop_n amount of random ingredients from all recipes\n",
    "        \n",
    "        sample = random.sample(list(dataset.iloc[recipes_index][dataset.iloc[recipes_index]==1].index),drop_n)\n",
    "        ingredient_history['Ingredient sample for recipe: {}'.format(recipes_index)] = (sample,recipes_index)\n",
    "        dataset_copy.iloc[recipes_index][sample] = 0 # new database\n",
    "\n",
    "    ingredient_history_reduced = random.sample(list(ingredient_history.items()),N)\n",
    "    count=0\n",
    "    for i in ingredient_history_reduced:\n",
    "        count+=1\n",
    "        sample = i[1][0]\n",
    "        recipes_index = i[1][1]\n",
    "        \n",
    "        l = recommend_n_ingredients(recipes_index,K,N_recommendations,dataset)\n",
    "        \n",
    "        \n",
    "        \n",
    "        \n",
    "        try:\n",
    "            for i in sample:\n",
    "                \n",
    "                raw_percentile = l[i][2]/len(l.items()) #rank u,i\n",
    "                rank_raw.append(raw_percentile)\n",
    "                n = sum([(j[1][2]/len(l.items()))*j[1][0] for j in l.items()])\n",
    "                d = sum([j[1][0] for j in l.items()])\n",
    "                rank_p_n.append(n)\n",
    "                rank_p_d.append(d)\n",
    "                in_top_10.append(1)\n",
    "                \n",
    "                if i in [k for k in l.keys()][0:5]:\n",
    "                    in_top_5.append(1)\n",
    "                \n",
    "        except:\n",
    "            rank_raw.append(0)\n",
    "            \n",
    "            pass\n",
    "        \n",
    "\n",
    "    # recipes index is random integer between max length\n",
    "    \n",
    "\n",
    "    print('rank_raw, rank_p,top_10,top_5'.format(N_recommendations))\n",
    "    return sum(rank_raw)/N, sum(rank_p_n)/sum(rank_p_d), sum(in_top_10)/N, sum(in_top_5)/N \n",
    "    \n",
    "drop=1 #ingredients to drop\n",
    "N=len(test) #samples to test\n",
    "N_rec = 10 \n",
    "KNN=250 #knn\n",
    "top=10 # sample presence in top n predictions \n",
    "_run_test = run_test(N,KNN,N_rec,drop,test) # N is number of tests, drop is number of ingredients dropped, last index is dataset.\n",
    "print(_run_test)"
   ]
  },
  {
   "cell_type": "code",
   "execution_count": 411,
   "metadata": {},
   "outputs": [
    {
     "data": {
      "text/plain": [
       "1272"
      ]
     },
     "execution_count": 411,
     "metadata": {},
     "output_type": "execute_result"
    }
   ],
   "source": [
    "len(test)"
   ]
  },
  {
   "cell_type": "code",
   "execution_count": 406,
   "metadata": {},
   "outputs": [
    {
     "name": "stdout",
     "output_type": "stream",
     "text": [
      "rank_raw, rank_p,top_10,top_5\n",
      "rank_raw, rank_p,top_10,top_5\n",
      "rank_raw, rank_p,top_10,top_5\n",
      "rank_raw, rank_p,top_10,top_5\n",
      "rank_raw, rank_p,top_10,top_5\n",
      "rank_raw, rank_p,top_10,top_5\n",
      "rank_raw, rank_p,top_10,top_5\n",
      "rank_raw, rank_p,top_10,top_5\n",
      "rank_raw, rank_p,top_10,top_5\n",
      "rank_raw, rank_p,top_10,top_5\n",
      "rank_raw, rank_p,top_10,top_5\n"
     ]
    },
    {
     "data": {
      "text/plain": [
       "[<matplotlib.lines.Line2D at 0x20a1d7cc370>]"
      ]
     },
     "execution_count": 406,
     "metadata": {},
     "output_type": "execute_result"
    },
    {
     "data": {
      "image/png": "[encoded data removed]",
      "text/plain": [
       "<Figure size 432x288 with 1 Axes>"
      ]
     },
     "metadata": {
      "needs_background": "light"
     },
     "output_type": "display_data"
    }
   ],
   "source": [
    "# find best K\n",
    "\n",
    "seq = [20,40,60,80,100,150,200,250,300,350,400]\n",
    "\n",
    "drop=1 #ingredients to drop\n",
    "N=len(val) #samples to test (computation reduce)\n",
    "N_rec = 10 #Number of recommendations\n",
    "\n",
    "rank_raw = []\n",
    "rank_p = []\n",
    "top_10 = []\n",
    "top_5 = []\n",
    "\n",
    "for KNN in seq:\n",
    "    l=run_test(N,KNN,N_rec,drop,val)\n",
    "    rank_raw.append(l[0])\n",
    "    rank_p.append(l[1])\n",
    "    top_10.append(l[2])\n",
    "    top_5.append(l[3])\n",
    "    \n",
    "plt.plot(rank_raw,seq)"
   ]
  },
  {
   "cell_type": "code",
   "execution_count": 428,
   "metadata": {},
   "outputs": [
    {
     "data": {
      "image/png": "[encoded data removed]",
      "text/plain": [
       "<Figure size 432x288 with 1 Axes>"
      ]
     },
     "metadata": {
      "needs_background": "light"
     },
     "output_type": "display_data"
    }
   ],
   "source": [
    "import numpy as np\n",
    "import matplotlib.pyplot as plt\n",
    "\n",
    "_seq = [[20],[40],[60],[80],[100],[150],[200],[250],[300],[350],[400]] #just this to change\n",
    "# Set up and plot the dataset\n",
    "X = np.array(_seq)\n",
    "yy = np.array(rank_raw) # N,\n",
    "yy2 = np.array(rank_p)\n",
    "yy3 = np.array(top_10)\n",
    "yy4 = np.array(top_5)\n",
    "\n",
    "plt.clf()\n",
    "plt.plot(X, yy, '^', markersize=10, mew=1)\n",
    "plt.plot(X, yy2, '*', markersize=10, mew=1)\n",
    "plt.plot(X, yy3, '.', markersize=10, mew=1)\n",
    "plt.plot(X, yy4, 'x', markersize=10, mew=1)\n",
    "\n",
    "\n",
    "\n",
    "# phi-functions to create various matrices of new features\n",
    "# from an original matrix of 1D inputs.\n",
    "def phi_linear(Xin):\n",
    "    return np.hstack([np.ones((Xin.shape[0],1)), Xin])\n",
    "def phi_quadratic(Xin):\n",
    "    return np.hstack([np.ones((Xin.shape[0],1)), Xin, Xin**2,Xin**3])\n",
    "def fw_rbf(xx, cc):\n",
    "    \"\"\"fixed-width RBF in 1d\"\"\"\n",
    "    return np.exp(-(xx-cc)**2 / 20.0)\n",
    "def phi_rbf(Xin):\n",
    "    return np.hstack([fw_rbf(Xin, 1), fw_rbf(Xin, 2), fw_rbf(Xin, 3)])\n",
    "\n",
    "def fit_and_plot(phi_fn, X, yy):\n",
    "    # phi_fn takes N, inputs and returns N,D basis function values\n",
    "    w_fit = np.linalg.lstsq(phi_fn(X), yy, rcond=None)[0] # D,\n",
    "    X_grid = np.arange(0, 400, 10)[:,None] # N,1\n",
    "    f_grid = np.dot(phi_fn(X_grid), w_fit)\n",
    "    plt.plot(X_grid, f_grid, linewidth=2)\n",
    "\n",
    "fit_and_plot(phi_quadratic, X, yy) #(actually cubics)\n",
    "fit_and_plot(phi_quadratic, X, yy2)\n",
    "fit_and_plot(phi_quadratic, X, yy3)\n",
    "fit_and_plot(phi_quadratic, X, yy4)\n",
    "plt.title('Performance Evaluated across K')\n",
    "plt.legend(('Rank R', 'Rank P', 'Top 10', 'Top 5'))\n",
    "plt.xlabel('KNN')\n",
    "plt.ylabel('Performance')\n",
    "plt.savefig('PerformanceVKNN.pdf')\n",
    "\n",
    "plt.show()"
   ]
  }
 ],
 "metadata": {
  "kernelspec": {
   "display_name": "Python 3",
   "language": "python",
   "name": "python3"
  },
  "language_info": {
   "codemirror_mode": {
    "name": "ipython",
    "version": 3
   },
   "file_extension": ".py",
   "mimetype": "text/x-python",
   "name": "python",
   "nbconvert_exporter": "python",
   "pygments_lexer": "ipython3",
   "version": "3.8.3"
  }
 },
 "nbformat": 4,
 "nbformat_minor": 5
}
